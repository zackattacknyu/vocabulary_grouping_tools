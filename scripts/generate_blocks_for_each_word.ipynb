{
 "cells": [
  {
   "cell_type": "code",
   "execution_count": 1,
   "metadata": {
    "collapsed": true
   },
   "outputs": [],
   "source": [
    "import pandas as pd\n",
    "\n",
    "vocab = pd.read_csv('../input_files_from_output/vocab_ak_1_2_ttmik_1_2_w_hanja_refined.csv')\n",
    "\n",
    "translation = pd.read_csv('../metadata/hangul_syllables_translation.csv')"
   ]
  },
  {
   "cell_type": "code",
   "execution_count": 6,
   "outputs": [],
   "source": [
    "english_trans_for_syll = {\n",
    "    _dict['hangul_syllable']: _dict['english_translation']\n",
    "    for _dict in translation.to_dict(orient='records')\n",
    "}\n"
   ],
   "metadata": {
    "collapsed": false,
    "pycharm": {
     "name": "#%%\n"
    }
   }
  },
  {
   "cell_type": "code",
   "execution_count": 11,
   "outputs": [],
   "source": [
    "def get_chain(hangul_word):\n",
    "    if hangul_word.endswith('하다'):\n",
    "        word_chain = hangul_word[:-2]\n",
    "    elif hangul_word.endswith('다'):\n",
    "        word_chain = hangul_word[:-1]\n",
    "    else:\n",
    "        word_chain = hangul_word\n",
    "    return ' + '.join([\n",
    "        f'{hangul_syll} ({english_trans_for_syll[hangul_syll]})'\n",
    "        for hangul_syll in word_chain\n",
    "    ])\n",
    "\n",
    "vocab['chain'] = vocab['hangul_word'].apply(get_chain)"
   ],
   "metadata": {
    "collapsed": false,
    "pycharm": {
     "name": "#%%\n"
    }
   }
  },
  {
   "cell_type": "code",
   "execution_count": 12,
   "outputs": [
    {
     "data": {
      "text/plain": "     Unnamed: 0 hangul_word               english_phrase hanja_word  \\\n0             0          휴대               being portable         携帶   \n1             1           형  elder brother from male pov        NaN   \n2             2        피곤하다                        tired        NaN   \n3             3          포도                        grape         葡萄   \n4             4           팔                  arm | eight        NaN   \n..          ...         ...                          ...        ...   \n554         554          가족                       family         家族   \n555         555          가방                          bag         街坊   \n556         556        가르치다                     to teach        NaN   \n557         557          가다                        to go        NaN   \n558         558          가게                 store / shop        NaN   \n\n                             chain  \n0            휴 (Phew) + 대 (Versus)  \n1                      형 (Brother)  \n2              피 (Blood) + 곤 (gon)  \n3          포 (cannon) + 도 (degree)  \n4                          팔 (Arm)  \n..                             ...  \n554              가 (go) + 족 (foot)  \n555              가 (go) + 방 (Room)  \n556  가 (go) + 르 (\"Re) + 치 (phooey)  \n557                         가 (go)  \n558              가 (go) + 게 (Crab)  \n\n[559 rows x 5 columns]",
      "text/html": "<div>\n<style scoped>\n    .dataframe tbody tr th:only-of-type {\n        vertical-align: middle;\n    }\n\n    .dataframe tbody tr th {\n        vertical-align: top;\n    }\n\n    .dataframe thead th {\n        text-align: right;\n    }\n</style>\n<table border=\"1\" class=\"dataframe\">\n  <thead>\n    <tr style=\"text-align: right;\">\n      <th></th>\n      <th>Unnamed: 0</th>\n      <th>hangul_word</th>\n      <th>english_phrase</th>\n      <th>hanja_word</th>\n      <th>chain</th>\n    </tr>\n  </thead>\n  <tbody>\n    <tr>\n      <th>0</th>\n      <td>0</td>\n      <td>휴대</td>\n      <td>being portable</td>\n      <td>携帶</td>\n      <td>휴 (Phew) + 대 (Versus)</td>\n    </tr>\n    <tr>\n      <th>1</th>\n      <td>1</td>\n      <td>형</td>\n      <td>elder brother from male pov</td>\n      <td>NaN</td>\n      <td>형 (Brother)</td>\n    </tr>\n    <tr>\n      <th>2</th>\n      <td>2</td>\n      <td>피곤하다</td>\n      <td>tired</td>\n      <td>NaN</td>\n      <td>피 (Blood) + 곤 (gon)</td>\n    </tr>\n    <tr>\n      <th>3</th>\n      <td>3</td>\n      <td>포도</td>\n      <td>grape</td>\n      <td>葡萄</td>\n      <td>포 (cannon) + 도 (degree)</td>\n    </tr>\n    <tr>\n      <th>4</th>\n      <td>4</td>\n      <td>팔</td>\n      <td>arm | eight</td>\n      <td>NaN</td>\n      <td>팔 (Arm)</td>\n    </tr>\n    <tr>\n      <th>...</th>\n      <td>...</td>\n      <td>...</td>\n      <td>...</td>\n      <td>...</td>\n      <td>...</td>\n    </tr>\n    <tr>\n      <th>554</th>\n      <td>554</td>\n      <td>가족</td>\n      <td>family</td>\n      <td>家族</td>\n      <td>가 (go) + 족 (foot)</td>\n    </tr>\n    <tr>\n      <th>555</th>\n      <td>555</td>\n      <td>가방</td>\n      <td>bag</td>\n      <td>街坊</td>\n      <td>가 (go) + 방 (Room)</td>\n    </tr>\n    <tr>\n      <th>556</th>\n      <td>556</td>\n      <td>가르치다</td>\n      <td>to teach</td>\n      <td>NaN</td>\n      <td>가 (go) + 르 (\"Re) + 치 (phooey)</td>\n    </tr>\n    <tr>\n      <th>557</th>\n      <td>557</td>\n      <td>가다</td>\n      <td>to go</td>\n      <td>NaN</td>\n      <td>가 (go)</td>\n    </tr>\n    <tr>\n      <th>558</th>\n      <td>558</td>\n      <td>가게</td>\n      <td>store / shop</td>\n      <td>NaN</td>\n      <td>가 (go) + 게 (Crab)</td>\n    </tr>\n  </tbody>\n</table>\n<p>559 rows × 5 columns</p>\n</div>"
     },
     "execution_count": 12,
     "metadata": {},
     "output_type": "execute_result"
    }
   ],
   "source": [
    "vocab"
   ],
   "metadata": {
    "collapsed": false,
    "pycharm": {
     "name": "#%%\n"
    }
   }
  },
  {
   "cell_type": "code",
   "execution_count": 13,
   "outputs": [],
   "source": [
    "vocab.to_csv('../output/starter_vocab_with_chain.csv')"
   ],
   "metadata": {
    "collapsed": false,
    "pycharm": {
     "name": "#%%\n"
    }
   }
  },
  {
   "cell_type": "code",
   "execution_count": null,
   "outputs": [],
   "source": [],
   "metadata": {
    "collapsed": false,
    "pycharm": {
     "name": "#%%\n"
    }
   }
  }
 ],
 "metadata": {
  "kernelspec": {
   "display_name": "Python 3",
   "language": "python",
   "name": "python3"
  },
  "language_info": {
   "codemirror_mode": {
    "name": "ipython",
    "version": 2
   },
   "file_extension": ".py",
   "mimetype": "text/x-python",
   "name": "python",
   "nbconvert_exporter": "python",
   "pygments_lexer": "ipython2",
   "version": "2.7.6"
  }
 },
 "nbformat": 4,
 "nbformat_minor": 0
}