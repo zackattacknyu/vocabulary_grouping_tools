{
 "cells": [
  {
   "cell_type": "code",
   "execution_count": 1,
   "metadata": {
    "collapsed": true
   },
   "outputs": [],
   "source": [
    "import pandas as pd\n",
    "import itertools\n",
    "\n",
    "vocab = pd.read_csv('../input_files_from_output/vocab_ak_1_2_ttmik_1_2_w_hanja_refined.csv')\n",
    "\n",
    "hangeul_translation = pd.read_csv('../metadata/hangul_subsequence_translation.csv')\n",
    "\n",
    "english_trans_for_hangeul = {\n",
    "    _dict['hangeul_subseq']: _dict['english_translation']\n",
    "    for _dict in hangeul_translation.to_dict(orient='records')\n",
    "}\n",
    "\n",
    "\n",
    "hanja_translation = pd.read_csv('../metadata/hanja_subsequence_translation.csv')\n",
    "\n",
    "english_trans_for_hanja = {\n",
    "    _dict['hanja_subsequence']: _dict['english_translation']\n",
    "    for _dict in hanja_translation.to_dict(orient='records')\n",
    "}"
   ]
  },
  {
   "cell_type": "code",
   "execution_count": 2,
   "outputs": [],
   "source": [
    "def cutoff_ending(_word):\n",
    "    if _word.endswith('하다'):\n",
    "        return _word[:-2]\n",
    "    elif _word.endswith('다'):\n",
    "        return _word[:-1]\n",
    "    else:\n",
    "        return _word\n",
    "\n",
    "\n",
    "\n"
   ],
   "metadata": {
    "collapsed": false,
    "pycharm": {
     "name": "#%%\n"
    }
   }
  },
  {
   "cell_type": "code",
   "execution_count": 3,
   "outputs": [
    {
     "data": {
      "text/plain": "     Unnamed: 0 hangul_word               english_phrase hanja_word\n0             0          휴대               being portable         携帶\n1             1           형  elder brother from male pov        NaN\n2             2        피곤하다                        tired        NaN\n3             3          포도                        grape         葡萄\n4             4           팔                  arm | eight        NaN\n..          ...         ...                          ...        ...\n554         554          가족                       family         家族\n555         555          가방                          bag         街坊\n556         556        가르치다                     to teach        NaN\n557         557          가다                        to go        NaN\n558         558          가게                 store / shop        NaN\n\n[559 rows x 4 columns]",
      "text/html": "<div>\n<style scoped>\n    .dataframe tbody tr th:only-of-type {\n        vertical-align: middle;\n    }\n\n    .dataframe tbody tr th {\n        vertical-align: top;\n    }\n\n    .dataframe thead th {\n        text-align: right;\n    }\n</style>\n<table border=\"1\" class=\"dataframe\">\n  <thead>\n    <tr style=\"text-align: right;\">\n      <th></th>\n      <th>Unnamed: 0</th>\n      <th>hangul_word</th>\n      <th>english_phrase</th>\n      <th>hanja_word</th>\n    </tr>\n  </thead>\n  <tbody>\n    <tr>\n      <th>0</th>\n      <td>0</td>\n      <td>휴대</td>\n      <td>being portable</td>\n      <td>携帶</td>\n    </tr>\n    <tr>\n      <th>1</th>\n      <td>1</td>\n      <td>형</td>\n      <td>elder brother from male pov</td>\n      <td>NaN</td>\n    </tr>\n    <tr>\n      <th>2</th>\n      <td>2</td>\n      <td>피곤하다</td>\n      <td>tired</td>\n      <td>NaN</td>\n    </tr>\n    <tr>\n      <th>3</th>\n      <td>3</td>\n      <td>포도</td>\n      <td>grape</td>\n      <td>葡萄</td>\n    </tr>\n    <tr>\n      <th>4</th>\n      <td>4</td>\n      <td>팔</td>\n      <td>arm | eight</td>\n      <td>NaN</td>\n    </tr>\n    <tr>\n      <th>...</th>\n      <td>...</td>\n      <td>...</td>\n      <td>...</td>\n      <td>...</td>\n    </tr>\n    <tr>\n      <th>554</th>\n      <td>554</td>\n      <td>가족</td>\n      <td>family</td>\n      <td>家族</td>\n    </tr>\n    <tr>\n      <th>555</th>\n      <td>555</td>\n      <td>가방</td>\n      <td>bag</td>\n      <td>街坊</td>\n    </tr>\n    <tr>\n      <th>556</th>\n      <td>556</td>\n      <td>가르치다</td>\n      <td>to teach</td>\n      <td>NaN</td>\n    </tr>\n    <tr>\n      <th>557</th>\n      <td>557</td>\n      <td>가다</td>\n      <td>to go</td>\n      <td>NaN</td>\n    </tr>\n    <tr>\n      <th>558</th>\n      <td>558</td>\n      <td>가게</td>\n      <td>store / shop</td>\n      <td>NaN</td>\n    </tr>\n  </tbody>\n</table>\n<p>559 rows × 4 columns</p>\n</div>"
     },
     "execution_count": 3,
     "metadata": {},
     "output_type": "execute_result"
    }
   ],
   "source": [
    "vocab"
   ],
   "metadata": {
    "collapsed": false,
    "pycharm": {
     "name": "#%%\n"
    }
   }
  },
  {
   "cell_type": "code",
   "execution_count": 4,
   "outputs": [],
   "source": [
    "divider_to_use = ['|', '/']\n",
    "def get_word_break_lists(_word_0):\n",
    "    if str(_word_0).lower() == 'nan':\n",
    "        return []\n",
    "    _word = cutoff_ending(_word_0)\n",
    "    if len(_word) < 2:\n",
    "        return [_word]\n",
    "    word_break_lists = []\n",
    "    num_dividers = len(_word) - 1\n",
    "    for divider_set in itertools.product(*([divider_to_use] * num_dividers)):\n",
    "        current_word = ''\n",
    "        for _seq, _div in zip(_word[:-1], divider_set):\n",
    "            current_word += ''.join([_seq, _div])\n",
    "        current_word += _word[-1]\n",
    "        word_to_split = current_word.replace('/', '')\n",
    "        word_break_lists.append(word_to_split.split('|'))\n",
    "    return word_break_lists"
   ],
   "metadata": {
    "collapsed": false,
    "pycharm": {
     "name": "#%%\n"
    }
   }
  },
  {
   "cell_type": "code",
   "execution_count": 5,
   "outputs": [],
   "source": [
    "vocab['hangul_syll_chains'] = vocab['hangul_word'].apply(get_word_break_lists)\n",
    "vocab['hanja_syll_chains'] = vocab['hanja_word'].apply(get_word_break_lists)\n",
    "\n",
    "def _get_hangul_hanja_chains(hangul_chains, hanja_chains):\n",
    "    if len(hanja_chains) > 0:\n",
    "        return list(zip(hangul_chains, hanja_chains))\n",
    "    else:\n",
    "        return [(_chain, []) for _chain in hangul_chains]\n",
    "\n",
    "vocab['hangul_hanja_chains'] = vocab.apply(lambda row: _get_hangul_hanja_chains(\n",
    "    row['hangul_syll_chains'], row['hanja_syll_chains']), axis=1)"
   ],
   "metadata": {
    "collapsed": false,
    "pycharm": {
     "name": "#%%\n"
    }
   }
  },
  {
   "cell_type": "code",
   "execution_count": 6,
   "outputs": [
    {
     "data": {
      "text/plain": "    Unnamed: 0 hangul_word                            english_phrase  \\\n0            0          휴대                            being portable   \n1            1           형               elder brother from male pov   \n2            2        피곤하다                                     tired   \n3            3          포도                                     grape   \n4            4           팔                               arm | eight   \n5            5          크다                                       big   \n6            6          춥다                                      cold   \n7            7         착하다                 to be kind / good-natured   \n8            8           차                                 car | tea   \n9            9           집                                     house   \n10          10          정말                             really, truly   \n11          11          전화                cellular phone | telephone   \n12          12           저                           he / she | that   \n13          13        재미있다                               interesting   \n14          14          작다                                     small   \n15          15          입다                       to wear / to put on   \n16          16           일                          one | day | work   \n17          17           이                                this | two   \n18          18        운동하다                 to exercise / to work out   \n19          19          우리                                  we / our   \n20          20         예술의                                      arts   \n21          21         예쁘다                                    pretty   \n22          22           열                               ten | fever   \n23          23          언니                 elder sister (female pov)   \n24          24           안                              inside | not   \n25          25         아프다      to be hurting / ill / in pain / hurt   \n26          26          아주                              very / quite   \n27          27          쓰다    to wear / to put on (a hat) | to write   \n28          28           살  -years old/counting unit for age | flesh   \n29          29          사람                            human / person   \n30          30         비싸다                                 expensive   \n31          31           분                                    minute   \n32          32          보다            to see / to watch / to look at   \n33          33         보내다                         to send / to mail   \n34          34        배고프다                                    hungry   \n35          35           배             abdomen / stomach | ship/boat   \n36          36           방                           room with a bed   \n37          37           밥                       steamed rice | meal   \n38          38         바쁘다                                      busy   \n39          39         바꾸다                   to change | to exchange   \n40          40           뭘                             what (object)   \n41          41          무슨                              what kind of   \n42          42         무섭다                                     scary   \n43          43         무겁다                                     heavy   \n44          44           목                      neck / throat / body   \n45          45          멀다                                       far   \n46          46          맵다                             hot and spicy   \n47          47          매일                                 every day   \n48          48          많이                       a lot / many / much   \n49          49          듣다      to listen / to hear -들 plural marker   \n\n   hanja_word                    hangul_syll_chains hanja_syll_chains  \\\n0          携帶                        [[휴, 대], [휴대]]    [[携, 帶], [携帶]]   \n1         NaN                                   [형]                []   \n2         NaN                        [[피, 곤], [피곤]]                []   \n3          葡萄                        [[포, 도], [포도]]    [[葡, 萄], [葡萄]]   \n4         NaN                                   [팔]                []   \n5         NaN                                   [크]                []   \n6         NaN                                   [춥]                []   \n7         NaN                                   [착]                []   \n8         NaN                                   [차]                []   \n9         NaN                                   [집]                []   \n10        NaN                        [[정, 말], [정말]]                []   \n11         電話                        [[전, 화], [전화]]    [[電, 話], [電話]]   \n12        NaN                                   [저]                []   \n13        NaN  [[재, 미, 있], [재, 미있], [재미, 있], [재미있]]                []   \n14        NaN                                   [작]                []   \n15        NaN                                   [입]                []   \n16        NaN                                   [일]                []   \n17        NaN                                   [이]                []   \n18       運動하다                        [[운, 동], [운동]]    [[運, 動], [運動]]   \n19        NaN                        [[우, 리], [우리]]                []   \n20        NaN  [[예, 술, 의], [예, 술의], [예술, 의], [예술의]]                []   \n21        NaN                        [[예, 쁘], [예쁘]]                []   \n22        NaN                                   [열]                []   \n23        NaN                        [[언, 니], [언니]]                []   \n24        NaN                                   [안]                []   \n25        NaN                        [[아, 프], [아프]]                []   \n26        NaN                        [[아, 주], [아주]]                []   \n27        NaN                                   [쓰]                []   \n28        NaN                                   [살]                []   \n29        NaN                        [[사, 람], [사람]]                []   \n30        NaN                        [[비, 싸], [비싸]]                []   \n31        NaN                                   [분]                []   \n32        NaN                                   [보]                []   \n33        NaN                        [[보, 내], [보내]]                []   \n34        NaN  [[배, 고, 프], [배, 고프], [배고, 프], [배고프]]                []   \n35        NaN                                   [배]                []   \n36        NaN                                   [방]                []   \n37        NaN                                   [밥]                []   \n38        NaN                        [[바, 쁘], [바쁘]]                []   \n39        NaN                        [[바, 꾸], [바꾸]]                []   \n40        NaN                                   [뭘]                []   \n41        NaN                        [[무, 슨], [무슨]]                []   \n42        NaN                        [[무, 섭], [무섭]]                []   \n43        NaN                        [[무, 겁], [무겁]]                []   \n44        NaN                                   [목]                []   \n45        NaN                                   [멀]                []   \n46        NaN                                   [맵]                []   \n47         每日                        [[매, 일], [매일]]    [[每, 日], [每日]]   \n48        NaN                        [[많, 이], [많이]]                []   \n49        NaN                                   [듣]                []   \n\n                                  hangul_hanja_chains  \n0                    [([휴, 대], [携, 帶]), ([휴대], [携帶])]  \n1                                           [(형, [])]  \n2                          [([피, 곤], []), ([피곤], [])]  \n3                    [([포, 도], [葡, 萄]), ([포도], [葡萄])]  \n4                                           [(팔, [])]  \n5                                           [(크, [])]  \n6                                           [(춥, [])]  \n7                                           [(착, [])]  \n8                                           [(차, [])]  \n9                                           [(집, [])]  \n10                         [([정, 말], []), ([정말], [])]  \n11                   [([전, 화], [電, 話]), ([전화], [電話])]  \n12                                          [(저, [])]  \n13  [([재, 미, 있], []), ([재, 미있], []), ([재미, 있], [])...  \n14                                          [(작, [])]  \n15                                          [(입, [])]  \n16                                          [(일, [])]  \n17                                          [(이, [])]  \n18                   [([운, 동], [運, 動]), ([운동], [運動])]  \n19                         [([우, 리], []), ([우리], [])]  \n20  [([예, 술, 의], []), ([예, 술의], []), ([예술, 의], [])...  \n21                         [([예, 쁘], []), ([예쁘], [])]  \n22                                          [(열, [])]  \n23                         [([언, 니], []), ([언니], [])]  \n24                                          [(안, [])]  \n25                         [([아, 프], []), ([아프], [])]  \n26                         [([아, 주], []), ([아주], [])]  \n27                                          [(쓰, [])]  \n28                                          [(살, [])]  \n29                         [([사, 람], []), ([사람], [])]  \n30                         [([비, 싸], []), ([비싸], [])]  \n31                                          [(분, [])]  \n32                                          [(보, [])]  \n33                         [([보, 내], []), ([보내], [])]  \n34  [([배, 고, 프], []), ([배, 고프], []), ([배고, 프], [])...  \n35                                          [(배, [])]  \n36                                          [(방, [])]  \n37                                          [(밥, [])]  \n38                         [([바, 쁘], []), ([바쁘], [])]  \n39                         [([바, 꾸], []), ([바꾸], [])]  \n40                                          [(뭘, [])]  \n41                         [([무, 슨], []), ([무슨], [])]  \n42                         [([무, 섭], []), ([무섭], [])]  \n43                         [([무, 겁], []), ([무겁], [])]  \n44                                          [(목, [])]  \n45                                          [(멀, [])]  \n46                                          [(맵, [])]  \n47                   [([매, 일], [每, 日]), ([매일], [每日])]  \n48                         [([많, 이], []), ([많이], [])]  \n49                                          [(듣, [])]  ",
      "text/html": "<div>\n<style scoped>\n    .dataframe tbody tr th:only-of-type {\n        vertical-align: middle;\n    }\n\n    .dataframe tbody tr th {\n        vertical-align: top;\n    }\n\n    .dataframe thead th {\n        text-align: right;\n    }\n</style>\n<table border=\"1\" class=\"dataframe\">\n  <thead>\n    <tr style=\"text-align: right;\">\n      <th></th>\n      <th>Unnamed: 0</th>\n      <th>hangul_word</th>\n      <th>english_phrase</th>\n      <th>hanja_word</th>\n      <th>hangul_syll_chains</th>\n      <th>hanja_syll_chains</th>\n      <th>hangul_hanja_chains</th>\n    </tr>\n  </thead>\n  <tbody>\n    <tr>\n      <th>0</th>\n      <td>0</td>\n      <td>휴대</td>\n      <td>being portable</td>\n      <td>携帶</td>\n      <td>[[휴, 대], [휴대]]</td>\n      <td>[[携, 帶], [携帶]]</td>\n      <td>[([휴, 대], [携, 帶]), ([휴대], [携帶])]</td>\n    </tr>\n    <tr>\n      <th>1</th>\n      <td>1</td>\n      <td>형</td>\n      <td>elder brother from male pov</td>\n      <td>NaN</td>\n      <td>[형]</td>\n      <td>[]</td>\n      <td>[(형, [])]</td>\n    </tr>\n    <tr>\n      <th>2</th>\n      <td>2</td>\n      <td>피곤하다</td>\n      <td>tired</td>\n      <td>NaN</td>\n      <td>[[피, 곤], [피곤]]</td>\n      <td>[]</td>\n      <td>[([피, 곤], []), ([피곤], [])]</td>\n    </tr>\n    <tr>\n      <th>3</th>\n      <td>3</td>\n      <td>포도</td>\n      <td>grape</td>\n      <td>葡萄</td>\n      <td>[[포, 도], [포도]]</td>\n      <td>[[葡, 萄], [葡萄]]</td>\n      <td>[([포, 도], [葡, 萄]), ([포도], [葡萄])]</td>\n    </tr>\n    <tr>\n      <th>4</th>\n      <td>4</td>\n      <td>팔</td>\n      <td>arm | eight</td>\n      <td>NaN</td>\n      <td>[팔]</td>\n      <td>[]</td>\n      <td>[(팔, [])]</td>\n    </tr>\n    <tr>\n      <th>5</th>\n      <td>5</td>\n      <td>크다</td>\n      <td>big</td>\n      <td>NaN</td>\n      <td>[크]</td>\n      <td>[]</td>\n      <td>[(크, [])]</td>\n    </tr>\n    <tr>\n      <th>6</th>\n      <td>6</td>\n      <td>춥다</td>\n      <td>cold</td>\n      <td>NaN</td>\n      <td>[춥]</td>\n      <td>[]</td>\n      <td>[(춥, [])]</td>\n    </tr>\n    <tr>\n      <th>7</th>\n      <td>7</td>\n      <td>착하다</td>\n      <td>to be kind / good-natured</td>\n      <td>NaN</td>\n      <td>[착]</td>\n      <td>[]</td>\n      <td>[(착, [])]</td>\n    </tr>\n    <tr>\n      <th>8</th>\n      <td>8</td>\n      <td>차</td>\n      <td>car | tea</td>\n      <td>NaN</td>\n      <td>[차]</td>\n      <td>[]</td>\n      <td>[(차, [])]</td>\n    </tr>\n    <tr>\n      <th>9</th>\n      <td>9</td>\n      <td>집</td>\n      <td>house</td>\n      <td>NaN</td>\n      <td>[집]</td>\n      <td>[]</td>\n      <td>[(집, [])]</td>\n    </tr>\n    <tr>\n      <th>10</th>\n      <td>10</td>\n      <td>정말</td>\n      <td>really, truly</td>\n      <td>NaN</td>\n      <td>[[정, 말], [정말]]</td>\n      <td>[]</td>\n      <td>[([정, 말], []), ([정말], [])]</td>\n    </tr>\n    <tr>\n      <th>11</th>\n      <td>11</td>\n      <td>전화</td>\n      <td>cellular phone | telephone</td>\n      <td>電話</td>\n      <td>[[전, 화], [전화]]</td>\n      <td>[[電, 話], [電話]]</td>\n      <td>[([전, 화], [電, 話]), ([전화], [電話])]</td>\n    </tr>\n    <tr>\n      <th>12</th>\n      <td>12</td>\n      <td>저</td>\n      <td>he / she | that</td>\n      <td>NaN</td>\n      <td>[저]</td>\n      <td>[]</td>\n      <td>[(저, [])]</td>\n    </tr>\n    <tr>\n      <th>13</th>\n      <td>13</td>\n      <td>재미있다</td>\n      <td>interesting</td>\n      <td>NaN</td>\n      <td>[[재, 미, 있], [재, 미있], [재미, 있], [재미있]]</td>\n      <td>[]</td>\n      <td>[([재, 미, 있], []), ([재, 미있], []), ([재미, 있], [])...</td>\n    </tr>\n    <tr>\n      <th>14</th>\n      <td>14</td>\n      <td>작다</td>\n      <td>small</td>\n      <td>NaN</td>\n      <td>[작]</td>\n      <td>[]</td>\n      <td>[(작, [])]</td>\n    </tr>\n    <tr>\n      <th>15</th>\n      <td>15</td>\n      <td>입다</td>\n      <td>to wear / to put on</td>\n      <td>NaN</td>\n      <td>[입]</td>\n      <td>[]</td>\n      <td>[(입, [])]</td>\n    </tr>\n    <tr>\n      <th>16</th>\n      <td>16</td>\n      <td>일</td>\n      <td>one | day | work</td>\n      <td>NaN</td>\n      <td>[일]</td>\n      <td>[]</td>\n      <td>[(일, [])]</td>\n    </tr>\n    <tr>\n      <th>17</th>\n      <td>17</td>\n      <td>이</td>\n      <td>this | two</td>\n      <td>NaN</td>\n      <td>[이]</td>\n      <td>[]</td>\n      <td>[(이, [])]</td>\n    </tr>\n    <tr>\n      <th>18</th>\n      <td>18</td>\n      <td>운동하다</td>\n      <td>to exercise / to work out</td>\n      <td>運動하다</td>\n      <td>[[운, 동], [운동]]</td>\n      <td>[[運, 動], [運動]]</td>\n      <td>[([운, 동], [運, 動]), ([운동], [運動])]</td>\n    </tr>\n    <tr>\n      <th>19</th>\n      <td>19</td>\n      <td>우리</td>\n      <td>we / our</td>\n      <td>NaN</td>\n      <td>[[우, 리], [우리]]</td>\n      <td>[]</td>\n      <td>[([우, 리], []), ([우리], [])]</td>\n    </tr>\n    <tr>\n      <th>20</th>\n      <td>20</td>\n      <td>예술의</td>\n      <td>arts</td>\n      <td>NaN</td>\n      <td>[[예, 술, 의], [예, 술의], [예술, 의], [예술의]]</td>\n      <td>[]</td>\n      <td>[([예, 술, 의], []), ([예, 술의], []), ([예술, 의], [])...</td>\n    </tr>\n    <tr>\n      <th>21</th>\n      <td>21</td>\n      <td>예쁘다</td>\n      <td>pretty</td>\n      <td>NaN</td>\n      <td>[[예, 쁘], [예쁘]]</td>\n      <td>[]</td>\n      <td>[([예, 쁘], []), ([예쁘], [])]</td>\n    </tr>\n    <tr>\n      <th>22</th>\n      <td>22</td>\n      <td>열</td>\n      <td>ten | fever</td>\n      <td>NaN</td>\n      <td>[열]</td>\n      <td>[]</td>\n      <td>[(열, [])]</td>\n    </tr>\n    <tr>\n      <th>23</th>\n      <td>23</td>\n      <td>언니</td>\n      <td>elder sister (female pov)</td>\n      <td>NaN</td>\n      <td>[[언, 니], [언니]]</td>\n      <td>[]</td>\n      <td>[([언, 니], []), ([언니], [])]</td>\n    </tr>\n    <tr>\n      <th>24</th>\n      <td>24</td>\n      <td>안</td>\n      <td>inside | not</td>\n      <td>NaN</td>\n      <td>[안]</td>\n      <td>[]</td>\n      <td>[(안, [])]</td>\n    </tr>\n    <tr>\n      <th>25</th>\n      <td>25</td>\n      <td>아프다</td>\n      <td>to be hurting / ill / in pain / hurt</td>\n      <td>NaN</td>\n      <td>[[아, 프], [아프]]</td>\n      <td>[]</td>\n      <td>[([아, 프], []), ([아프], [])]</td>\n    </tr>\n    <tr>\n      <th>26</th>\n      <td>26</td>\n      <td>아주</td>\n      <td>very / quite</td>\n      <td>NaN</td>\n      <td>[[아, 주], [아주]]</td>\n      <td>[]</td>\n      <td>[([아, 주], []), ([아주], [])]</td>\n    </tr>\n    <tr>\n      <th>27</th>\n      <td>27</td>\n      <td>쓰다</td>\n      <td>to wear / to put on (a hat) | to write</td>\n      <td>NaN</td>\n      <td>[쓰]</td>\n      <td>[]</td>\n      <td>[(쓰, [])]</td>\n    </tr>\n    <tr>\n      <th>28</th>\n      <td>28</td>\n      <td>살</td>\n      <td>-years old/counting unit for age | flesh</td>\n      <td>NaN</td>\n      <td>[살]</td>\n      <td>[]</td>\n      <td>[(살, [])]</td>\n    </tr>\n    <tr>\n      <th>29</th>\n      <td>29</td>\n      <td>사람</td>\n      <td>human / person</td>\n      <td>NaN</td>\n      <td>[[사, 람], [사람]]</td>\n      <td>[]</td>\n      <td>[([사, 람], []), ([사람], [])]</td>\n    </tr>\n    <tr>\n      <th>30</th>\n      <td>30</td>\n      <td>비싸다</td>\n      <td>expensive</td>\n      <td>NaN</td>\n      <td>[[비, 싸], [비싸]]</td>\n      <td>[]</td>\n      <td>[([비, 싸], []), ([비싸], [])]</td>\n    </tr>\n    <tr>\n      <th>31</th>\n      <td>31</td>\n      <td>분</td>\n      <td>minute</td>\n      <td>NaN</td>\n      <td>[분]</td>\n      <td>[]</td>\n      <td>[(분, [])]</td>\n    </tr>\n    <tr>\n      <th>32</th>\n      <td>32</td>\n      <td>보다</td>\n      <td>to see / to watch / to look at</td>\n      <td>NaN</td>\n      <td>[보]</td>\n      <td>[]</td>\n      <td>[(보, [])]</td>\n    </tr>\n    <tr>\n      <th>33</th>\n      <td>33</td>\n      <td>보내다</td>\n      <td>to send / to mail</td>\n      <td>NaN</td>\n      <td>[[보, 내], [보내]]</td>\n      <td>[]</td>\n      <td>[([보, 내], []), ([보내], [])]</td>\n    </tr>\n    <tr>\n      <th>34</th>\n      <td>34</td>\n      <td>배고프다</td>\n      <td>hungry</td>\n      <td>NaN</td>\n      <td>[[배, 고, 프], [배, 고프], [배고, 프], [배고프]]</td>\n      <td>[]</td>\n      <td>[([배, 고, 프], []), ([배, 고프], []), ([배고, 프], [])...</td>\n    </tr>\n    <tr>\n      <th>35</th>\n      <td>35</td>\n      <td>배</td>\n      <td>abdomen / stomach | ship/boat</td>\n      <td>NaN</td>\n      <td>[배]</td>\n      <td>[]</td>\n      <td>[(배, [])]</td>\n    </tr>\n    <tr>\n      <th>36</th>\n      <td>36</td>\n      <td>방</td>\n      <td>room with a bed</td>\n      <td>NaN</td>\n      <td>[방]</td>\n      <td>[]</td>\n      <td>[(방, [])]</td>\n    </tr>\n    <tr>\n      <th>37</th>\n      <td>37</td>\n      <td>밥</td>\n      <td>steamed rice | meal</td>\n      <td>NaN</td>\n      <td>[밥]</td>\n      <td>[]</td>\n      <td>[(밥, [])]</td>\n    </tr>\n    <tr>\n      <th>38</th>\n      <td>38</td>\n      <td>바쁘다</td>\n      <td>busy</td>\n      <td>NaN</td>\n      <td>[[바, 쁘], [바쁘]]</td>\n      <td>[]</td>\n      <td>[([바, 쁘], []), ([바쁘], [])]</td>\n    </tr>\n    <tr>\n      <th>39</th>\n      <td>39</td>\n      <td>바꾸다</td>\n      <td>to change | to exchange</td>\n      <td>NaN</td>\n      <td>[[바, 꾸], [바꾸]]</td>\n      <td>[]</td>\n      <td>[([바, 꾸], []), ([바꾸], [])]</td>\n    </tr>\n    <tr>\n      <th>40</th>\n      <td>40</td>\n      <td>뭘</td>\n      <td>what (object)</td>\n      <td>NaN</td>\n      <td>[뭘]</td>\n      <td>[]</td>\n      <td>[(뭘, [])]</td>\n    </tr>\n    <tr>\n      <th>41</th>\n      <td>41</td>\n      <td>무슨</td>\n      <td>what kind of</td>\n      <td>NaN</td>\n      <td>[[무, 슨], [무슨]]</td>\n      <td>[]</td>\n      <td>[([무, 슨], []), ([무슨], [])]</td>\n    </tr>\n    <tr>\n      <th>42</th>\n      <td>42</td>\n      <td>무섭다</td>\n      <td>scary</td>\n      <td>NaN</td>\n      <td>[[무, 섭], [무섭]]</td>\n      <td>[]</td>\n      <td>[([무, 섭], []), ([무섭], [])]</td>\n    </tr>\n    <tr>\n      <th>43</th>\n      <td>43</td>\n      <td>무겁다</td>\n      <td>heavy</td>\n      <td>NaN</td>\n      <td>[[무, 겁], [무겁]]</td>\n      <td>[]</td>\n      <td>[([무, 겁], []), ([무겁], [])]</td>\n    </tr>\n    <tr>\n      <th>44</th>\n      <td>44</td>\n      <td>목</td>\n      <td>neck / throat / body</td>\n      <td>NaN</td>\n      <td>[목]</td>\n      <td>[]</td>\n      <td>[(목, [])]</td>\n    </tr>\n    <tr>\n      <th>45</th>\n      <td>45</td>\n      <td>멀다</td>\n      <td>far</td>\n      <td>NaN</td>\n      <td>[멀]</td>\n      <td>[]</td>\n      <td>[(멀, [])]</td>\n    </tr>\n    <tr>\n      <th>46</th>\n      <td>46</td>\n      <td>맵다</td>\n      <td>hot and spicy</td>\n      <td>NaN</td>\n      <td>[맵]</td>\n      <td>[]</td>\n      <td>[(맵, [])]</td>\n    </tr>\n    <tr>\n      <th>47</th>\n      <td>47</td>\n      <td>매일</td>\n      <td>every day</td>\n      <td>每日</td>\n      <td>[[매, 일], [매일]]</td>\n      <td>[[每, 日], [每日]]</td>\n      <td>[([매, 일], [每, 日]), ([매일], [每日])]</td>\n    </tr>\n    <tr>\n      <th>48</th>\n      <td>48</td>\n      <td>많이</td>\n      <td>a lot / many / much</td>\n      <td>NaN</td>\n      <td>[[많, 이], [많이]]</td>\n      <td>[]</td>\n      <td>[([많, 이], []), ([많이], [])]</td>\n    </tr>\n    <tr>\n      <th>49</th>\n      <td>49</td>\n      <td>듣다</td>\n      <td>to listen / to hear -들 plural marker</td>\n      <td>NaN</td>\n      <td>[듣]</td>\n      <td>[]</td>\n      <td>[(듣, [])]</td>\n    </tr>\n  </tbody>\n</table>\n</div>"
     },
     "execution_count": 6,
     "metadata": {},
     "output_type": "execute_result"
    }
   ],
   "source": [
    "vocab.head(50)"
   ],
   "metadata": {
    "collapsed": false,
    "pycharm": {
     "name": "#%%\n"
    }
   }
  },
  {
   "cell_type": "code",
   "execution_count": 7,
   "outputs": [],
   "source": [
    "vocab2 = vocab.explode('hangul_hanja_chains').rename(columns = {\n",
    "    'hangul_hanja_chains': 'hangul_hanja_subseq_chain'\n",
    "})"
   ],
   "metadata": {
    "collapsed": false,
    "pycharm": {
     "name": "#%%\n"
    }
   }
  },
  {
   "cell_type": "code",
   "execution_count": 8,
   "outputs": [
    {
     "data": {
      "text/plain": "     Unnamed: 0 hangul_word               english_phrase hanja_word  \\\n0             0          휴대               being portable         携帶   \n0             0          휴대               being portable         携帶   \n1             1           형  elder brother from male pov        NaN   \n2             2        피곤하다                        tired        NaN   \n2             2        피곤하다                        tired        NaN   \n..          ...         ...                          ...        ...   \n556         556        가르치다                     to teach        NaN   \n556         556        가르치다                     to teach        NaN   \n557         557          가다                        to go        NaN   \n558         558          가게                 store / shop        NaN   \n558         558          가게                 store / shop        NaN   \n\n                       hangul_syll_chains hanja_syll_chains  \\\n0                          [[휴, 대], [휴대]]    [[携, 帶], [携帶]]   \n0                          [[휴, 대], [휴대]]    [[携, 帶], [携帶]]   \n1                                     [형]                []   \n2                          [[피, 곤], [피곤]]                []   \n2                          [[피, 곤], [피곤]]                []   \n..                                    ...               ...   \n556  [[가, 르, 치], [가, 르치], [가르, 치], [가르치]]                []   \n556  [[가, 르, 치], [가, 르치], [가르, 치], [가르치]]                []   \n557                                   [가]                []   \n558                        [[가, 게], [가게]]                []   \n558                        [[가, 게], [가게]]                []   \n\n    hangul_hanja_subseq_chain  \n0            ([휴, 대], [携, 帶])  \n0                ([휴대], [携帶])  \n1                     (형, [])  \n2                ([피, 곤], [])  \n2                  ([피곤], [])  \n..                        ...  \n556             ([가르, 치], [])  \n556               ([가르치], [])  \n557                   (가, [])  \n558              ([가, 게], [])  \n558                ([가게], [])  \n\n[1301 rows x 7 columns]",
      "text/html": "<div>\n<style scoped>\n    .dataframe tbody tr th:only-of-type {\n        vertical-align: middle;\n    }\n\n    .dataframe tbody tr th {\n        vertical-align: top;\n    }\n\n    .dataframe thead th {\n        text-align: right;\n    }\n</style>\n<table border=\"1\" class=\"dataframe\">\n  <thead>\n    <tr style=\"text-align: right;\">\n      <th></th>\n      <th>Unnamed: 0</th>\n      <th>hangul_word</th>\n      <th>english_phrase</th>\n      <th>hanja_word</th>\n      <th>hangul_syll_chains</th>\n      <th>hanja_syll_chains</th>\n      <th>hangul_hanja_subseq_chain</th>\n    </tr>\n  </thead>\n  <tbody>\n    <tr>\n      <th>0</th>\n      <td>0</td>\n      <td>휴대</td>\n      <td>being portable</td>\n      <td>携帶</td>\n      <td>[[휴, 대], [휴대]]</td>\n      <td>[[携, 帶], [携帶]]</td>\n      <td>([휴, 대], [携, 帶])</td>\n    </tr>\n    <tr>\n      <th>0</th>\n      <td>0</td>\n      <td>휴대</td>\n      <td>being portable</td>\n      <td>携帶</td>\n      <td>[[휴, 대], [휴대]]</td>\n      <td>[[携, 帶], [携帶]]</td>\n      <td>([휴대], [携帶])</td>\n    </tr>\n    <tr>\n      <th>1</th>\n      <td>1</td>\n      <td>형</td>\n      <td>elder brother from male pov</td>\n      <td>NaN</td>\n      <td>[형]</td>\n      <td>[]</td>\n      <td>(형, [])</td>\n    </tr>\n    <tr>\n      <th>2</th>\n      <td>2</td>\n      <td>피곤하다</td>\n      <td>tired</td>\n      <td>NaN</td>\n      <td>[[피, 곤], [피곤]]</td>\n      <td>[]</td>\n      <td>([피, 곤], [])</td>\n    </tr>\n    <tr>\n      <th>2</th>\n      <td>2</td>\n      <td>피곤하다</td>\n      <td>tired</td>\n      <td>NaN</td>\n      <td>[[피, 곤], [피곤]]</td>\n      <td>[]</td>\n      <td>([피곤], [])</td>\n    </tr>\n    <tr>\n      <th>...</th>\n      <td>...</td>\n      <td>...</td>\n      <td>...</td>\n      <td>...</td>\n      <td>...</td>\n      <td>...</td>\n      <td>...</td>\n    </tr>\n    <tr>\n      <th>556</th>\n      <td>556</td>\n      <td>가르치다</td>\n      <td>to teach</td>\n      <td>NaN</td>\n      <td>[[가, 르, 치], [가, 르치], [가르, 치], [가르치]]</td>\n      <td>[]</td>\n      <td>([가르, 치], [])</td>\n    </tr>\n    <tr>\n      <th>556</th>\n      <td>556</td>\n      <td>가르치다</td>\n      <td>to teach</td>\n      <td>NaN</td>\n      <td>[[가, 르, 치], [가, 르치], [가르, 치], [가르치]]</td>\n      <td>[]</td>\n      <td>([가르치], [])</td>\n    </tr>\n    <tr>\n      <th>557</th>\n      <td>557</td>\n      <td>가다</td>\n      <td>to go</td>\n      <td>NaN</td>\n      <td>[가]</td>\n      <td>[]</td>\n      <td>(가, [])</td>\n    </tr>\n    <tr>\n      <th>558</th>\n      <td>558</td>\n      <td>가게</td>\n      <td>store / shop</td>\n      <td>NaN</td>\n      <td>[[가, 게], [가게]]</td>\n      <td>[]</td>\n      <td>([가, 게], [])</td>\n    </tr>\n    <tr>\n      <th>558</th>\n      <td>558</td>\n      <td>가게</td>\n      <td>store / shop</td>\n      <td>NaN</td>\n      <td>[[가, 게], [가게]]</td>\n      <td>[]</td>\n      <td>([가게], [])</td>\n    </tr>\n  </tbody>\n</table>\n<p>1301 rows × 7 columns</p>\n</div>"
     },
     "execution_count": 8,
     "metadata": {},
     "output_type": "execute_result"
    }
   ],
   "source": [
    "vocab2"
   ],
   "metadata": {
    "collapsed": false,
    "pycharm": {
     "name": "#%%\n"
    }
   }
  },
  {
   "cell_type": "code",
   "execution_count": 9,
   "outputs": [],
   "source": [
    "def _get_chain(word_chain, engish_trans):\n",
    "    return ' + '.join([\n",
    "        f'{hangul_syll} ({engish_trans[hangul_syll]})'\n",
    "        for hangul_syll in word_chain\n",
    "    ])\n",
    "\n",
    "vocab2['hangul_chain_with_trans'] = vocab2['hangul_hanja_subseq_chain'].apply(\n",
    "    lambda x: _get_chain(x[0], english_trans_for_hangeul))"
   ],
   "metadata": {
    "collapsed": false,
    "pycharm": {
     "name": "#%%\n"
    }
   }
  },
  {
   "cell_type": "code",
   "execution_count": 11,
   "outputs": [],
   "source": [
    "vocab2['hanja_chain_with_trans'] = vocab2['hangul_hanja_subseq_chain'].apply(\n",
    "    lambda x: _get_chain(x[1], english_trans_for_hanja))"
   ],
   "metadata": {
    "collapsed": false,
    "pycharm": {
     "name": "#%%\n"
    }
   }
  },
  {
   "cell_type": "code",
   "execution_count": 12,
   "outputs": [],
   "source": [
    "vocab2.to_csv('../output/starter_vocab_with_extensive_chain_2.csv')"
   ],
   "metadata": {
    "collapsed": false,
    "pycharm": {
     "name": "#%%\n"
    }
   }
  },
  {
   "cell_type": "code",
   "execution_count": null,
   "outputs": [],
   "source": [],
   "metadata": {
    "collapsed": false,
    "pycharm": {
     "name": "#%%\n"
    }
   }
  }
 ],
 "metadata": {
  "kernelspec": {
   "display_name": "Python 3",
   "language": "python",
   "name": "python3"
  },
  "language_info": {
   "codemirror_mode": {
    "name": "ipython",
    "version": 2
   },
   "file_extension": ".py",
   "mimetype": "text/x-python",
   "name": "python",
   "nbconvert_exporter": "python",
   "pygments_lexer": "ipython2",
   "version": "2.7.6"
  }
 },
 "nbformat": 4,
 "nbformat_minor": 0
}