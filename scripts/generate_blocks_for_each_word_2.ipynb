{
 "cells": [
  {
   "cell_type": "code",
   "execution_count": 56,
   "metadata": {
    "collapsed": true
   },
   "outputs": [],
   "source": [
    "import pandas as pd\n",
    "import itertools\n",
    "\n",
    "vocab = pd.read_csv('../input_files_from_output/vocab_ak_1_2_ttmik_1_2_w_hanja_refined.csv')\n",
    "\n",
    "translation = pd.read_csv('../metadata/hangul_subsequence_translation.csv')"
   ]
  },
  {
   "cell_type": "code",
   "execution_count": 57,
   "outputs": [],
   "source": [
    "def cutoff_ending(hangul_word):\n",
    "    if hangul_word.endswith('하다'):\n",
    "        return hangul_word[:-2]\n",
    "    elif hangul_word.endswith('다'):\n",
    "        return hangul_word[:-1]\n",
    "    else:\n",
    "        return hangul_word"
   ],
   "metadata": {
    "collapsed": false,
    "pycharm": {
     "name": "#%%\n"
    }
   }
  },
  {
   "cell_type": "code",
   "execution_count": 58,
   "outputs": [
    {
     "data": {
      "text/plain": "      Unnamed: 0 hangul_syllable english_translation\n0              0               정          Attachment\n1              1               키              Height\n2              2               콕                Poke\n3              3              지우               Jiwoo\n4              4              학교              School\n...          ...             ...                 ...\n1034        1034              빨래             Laundry\n1035        1035               브                   V\n1036        1036               바                 Bar\n1037        1037             집안일    household chores\n1038        1038              인사           Greetings\n\n[1039 rows x 3 columns]",
      "text/html": "<div>\n<style scoped>\n    .dataframe tbody tr th:only-of-type {\n        vertical-align: middle;\n    }\n\n    .dataframe tbody tr th {\n        vertical-align: top;\n    }\n\n    .dataframe thead th {\n        text-align: right;\n    }\n</style>\n<table border=\"1\" class=\"dataframe\">\n  <thead>\n    <tr style=\"text-align: right;\">\n      <th></th>\n      <th>Unnamed: 0</th>\n      <th>hangul_syllable</th>\n      <th>english_translation</th>\n    </tr>\n  </thead>\n  <tbody>\n    <tr>\n      <th>0</th>\n      <td>0</td>\n      <td>정</td>\n      <td>Attachment</td>\n    </tr>\n    <tr>\n      <th>1</th>\n      <td>1</td>\n      <td>키</td>\n      <td>Height</td>\n    </tr>\n    <tr>\n      <th>2</th>\n      <td>2</td>\n      <td>콕</td>\n      <td>Poke</td>\n    </tr>\n    <tr>\n      <th>3</th>\n      <td>3</td>\n      <td>지우</td>\n      <td>Jiwoo</td>\n    </tr>\n    <tr>\n      <th>4</th>\n      <td>4</td>\n      <td>학교</td>\n      <td>School</td>\n    </tr>\n    <tr>\n      <th>...</th>\n      <td>...</td>\n      <td>...</td>\n      <td>...</td>\n    </tr>\n    <tr>\n      <th>1034</th>\n      <td>1034</td>\n      <td>빨래</td>\n      <td>Laundry</td>\n    </tr>\n    <tr>\n      <th>1035</th>\n      <td>1035</td>\n      <td>브</td>\n      <td>V</td>\n    </tr>\n    <tr>\n      <th>1036</th>\n      <td>1036</td>\n      <td>바</td>\n      <td>Bar</td>\n    </tr>\n    <tr>\n      <th>1037</th>\n      <td>1037</td>\n      <td>집안일</td>\n      <td>household chores</td>\n    </tr>\n    <tr>\n      <th>1038</th>\n      <td>1038</td>\n      <td>인사</td>\n      <td>Greetings</td>\n    </tr>\n  </tbody>\n</table>\n<p>1039 rows × 3 columns</p>\n</div>"
     },
     "execution_count": 58,
     "metadata": {},
     "output_type": "execute_result"
    }
   ],
   "source": [
    "translation"
   ],
   "metadata": {
    "collapsed": false,
    "pycharm": {
     "name": "#%%\n"
    }
   }
  },
  {
   "cell_type": "code",
   "execution_count": 59,
   "outputs": [],
   "source": [
    "english_trans_for_syll = {\n",
    "    _dict['hangul_syllable']: _dict['english_translation']\n",
    "    for _dict in translation.to_dict(orient='records')\n",
    "}\n"
   ],
   "metadata": {
    "collapsed": false,
    "pycharm": {
     "name": "#%%\n"
    }
   }
  },
  {
   "cell_type": "code",
   "execution_count": 60,
   "outputs": [
    {
     "data": {
      "text/plain": "     Unnamed: 0 hangul_word               english_phrase hanja_word\n0             0          휴대               being portable         携帶\n1             1           형  elder brother from male pov        NaN\n2             2        피곤하다                        tired        NaN\n3             3          포도                        grape         葡萄\n4             4           팔                  arm | eight        NaN\n..          ...         ...                          ...        ...\n554         554          가족                       family         家族\n555         555          가방                          bag         街坊\n556         556        가르치다                     to teach        NaN\n557         557          가다                        to go        NaN\n558         558          가게                 store / shop        NaN\n\n[559 rows x 4 columns]",
      "text/html": "<div>\n<style scoped>\n    .dataframe tbody tr th:only-of-type {\n        vertical-align: middle;\n    }\n\n    .dataframe tbody tr th {\n        vertical-align: top;\n    }\n\n    .dataframe thead th {\n        text-align: right;\n    }\n</style>\n<table border=\"1\" class=\"dataframe\">\n  <thead>\n    <tr style=\"text-align: right;\">\n      <th></th>\n      <th>Unnamed: 0</th>\n      <th>hangul_word</th>\n      <th>english_phrase</th>\n      <th>hanja_word</th>\n    </tr>\n  </thead>\n  <tbody>\n    <tr>\n      <th>0</th>\n      <td>0</td>\n      <td>휴대</td>\n      <td>being portable</td>\n      <td>携帶</td>\n    </tr>\n    <tr>\n      <th>1</th>\n      <td>1</td>\n      <td>형</td>\n      <td>elder brother from male pov</td>\n      <td>NaN</td>\n    </tr>\n    <tr>\n      <th>2</th>\n      <td>2</td>\n      <td>피곤하다</td>\n      <td>tired</td>\n      <td>NaN</td>\n    </tr>\n    <tr>\n      <th>3</th>\n      <td>3</td>\n      <td>포도</td>\n      <td>grape</td>\n      <td>葡萄</td>\n    </tr>\n    <tr>\n      <th>4</th>\n      <td>4</td>\n      <td>팔</td>\n      <td>arm | eight</td>\n      <td>NaN</td>\n    </tr>\n    <tr>\n      <th>...</th>\n      <td>...</td>\n      <td>...</td>\n      <td>...</td>\n      <td>...</td>\n    </tr>\n    <tr>\n      <th>554</th>\n      <td>554</td>\n      <td>가족</td>\n      <td>family</td>\n      <td>家族</td>\n    </tr>\n    <tr>\n      <th>555</th>\n      <td>555</td>\n      <td>가방</td>\n      <td>bag</td>\n      <td>街坊</td>\n    </tr>\n    <tr>\n      <th>556</th>\n      <td>556</td>\n      <td>가르치다</td>\n      <td>to teach</td>\n      <td>NaN</td>\n    </tr>\n    <tr>\n      <th>557</th>\n      <td>557</td>\n      <td>가다</td>\n      <td>to go</td>\n      <td>NaN</td>\n    </tr>\n    <tr>\n      <th>558</th>\n      <td>558</td>\n      <td>가게</td>\n      <td>store / shop</td>\n      <td>NaN</td>\n    </tr>\n  </tbody>\n</table>\n<p>559 rows × 4 columns</p>\n</div>"
     },
     "execution_count": 60,
     "metadata": {},
     "output_type": "execute_result"
    }
   ],
   "source": [
    "vocab"
   ],
   "metadata": {
    "collapsed": false,
    "pycharm": {
     "name": "#%%\n"
    }
   }
  },
  {
   "cell_type": "code",
   "execution_count": 66,
   "outputs": [],
   "source": [
    "divider_to_use = ['|', '/']\n",
    "def get_word_break_lists(_word_0):\n",
    "    _word = cutoff_ending(_word_0)\n",
    "    if len(_word) < 2:\n",
    "        return [_word]\n",
    "    word_break_lists = []\n",
    "    num_dividers = len(_word) - 1\n",
    "    for divider_set in itertools.product(*([divider_to_use] * num_dividers)):\n",
    "        current_word = ''\n",
    "        for _seq, _div in zip(_word[:-1], divider_set):\n",
    "            current_word += ''.join([_seq, _div])\n",
    "        current_word += _word[-1]\n",
    "        word_to_split = current_word.replace('/', '')\n",
    "        word_break_lists.append(word_to_split.split('|'))\n",
    "    return word_break_lists"
   ],
   "metadata": {
    "collapsed": false,
    "pycharm": {
     "name": "#%%\n"
    }
   }
  },
  {
   "cell_type": "code",
   "execution_count": 65,
   "outputs": [
    {
     "ename": "IndexError",
     "evalue": "string index out of range",
     "output_type": "error",
     "traceback": [
      "\u001B[0;31m---------------------------------------------------------------------------\u001B[0m",
      "\u001B[0;31mIndexError\u001B[0m                                Traceback (most recent call last)",
      "\u001B[0;32m<ipython-input-65-686c05106454>\u001B[0m in \u001B[0;36m<module>\u001B[0;34m\u001B[0m\n\u001B[0;32m----> 1\u001B[0;31m \u001B[0mget_word_break_lists\u001B[0m\u001B[0;34m(\u001B[0m\u001B[0;34m''\u001B[0m\u001B[0;34m)\u001B[0m\u001B[0;34m\u001B[0m\u001B[0;34m\u001B[0m\u001B[0m\n\u001B[0m",
      "\u001B[0;32m<ipython-input-61-f3daf601d861>\u001B[0m in \u001B[0;36mget_word_break_lists\u001B[0;34m(_word_0)\u001B[0m\n\u001B[1;32m      8\u001B[0m         \u001B[0;32mfor\u001B[0m \u001B[0m_seq\u001B[0m\u001B[0;34m,\u001B[0m \u001B[0m_div\u001B[0m \u001B[0;32min\u001B[0m \u001B[0mzip\u001B[0m\u001B[0;34m(\u001B[0m\u001B[0m_word\u001B[0m\u001B[0;34m[\u001B[0m\u001B[0;34m:\u001B[0m\u001B[0;34m-\u001B[0m\u001B[0;36m1\u001B[0m\u001B[0;34m]\u001B[0m\u001B[0;34m,\u001B[0m \u001B[0mdivider_set\u001B[0m\u001B[0;34m)\u001B[0m\u001B[0;34m:\u001B[0m\u001B[0;34m\u001B[0m\u001B[0;34m\u001B[0m\u001B[0m\n\u001B[1;32m      9\u001B[0m             \u001B[0mcurrent_word\u001B[0m \u001B[0;34m+=\u001B[0m \u001B[0;34m''\u001B[0m\u001B[0;34m.\u001B[0m\u001B[0mjoin\u001B[0m\u001B[0;34m(\u001B[0m\u001B[0;34m[\u001B[0m\u001B[0m_seq\u001B[0m\u001B[0;34m,\u001B[0m \u001B[0m_div\u001B[0m\u001B[0;34m]\u001B[0m\u001B[0;34m)\u001B[0m\u001B[0;34m\u001B[0m\u001B[0;34m\u001B[0m\u001B[0m\n\u001B[0;32m---> 10\u001B[0;31m         \u001B[0mcurrent_word\u001B[0m \u001B[0;34m+=\u001B[0m \u001B[0m_word\u001B[0m\u001B[0;34m[\u001B[0m\u001B[0;34m-\u001B[0m\u001B[0;36m1\u001B[0m\u001B[0;34m]\u001B[0m\u001B[0;34m\u001B[0m\u001B[0;34m\u001B[0m\u001B[0m\n\u001B[0m\u001B[1;32m     11\u001B[0m         \u001B[0mword_to_split\u001B[0m \u001B[0;34m=\u001B[0m \u001B[0mcurrent_word\u001B[0m\u001B[0;34m.\u001B[0m\u001B[0mreplace\u001B[0m\u001B[0;34m(\u001B[0m\u001B[0;34m'/'\u001B[0m\u001B[0;34m,\u001B[0m \u001B[0;34m''\u001B[0m\u001B[0;34m)\u001B[0m\u001B[0;34m\u001B[0m\u001B[0;34m\u001B[0m\u001B[0m\n\u001B[1;32m     12\u001B[0m         \u001B[0mword_break_lists\u001B[0m\u001B[0;34m.\u001B[0m\u001B[0mappend\u001B[0m\u001B[0;34m(\u001B[0m\u001B[0mword_to_split\u001B[0m\u001B[0;34m.\u001B[0m\u001B[0msplit\u001B[0m\u001B[0;34m(\u001B[0m\u001B[0;34m'|'\u001B[0m\u001B[0;34m)\u001B[0m\u001B[0;34m)\u001B[0m\u001B[0;34m\u001B[0m\u001B[0;34m\u001B[0m\u001B[0m\n",
      "\u001B[0;31mIndexError\u001B[0m: string index out of range"
     ]
    }
   ],
   "source": [],
   "metadata": {
    "collapsed": false,
    "pycharm": {
     "name": "#%%\n"
    }
   }
  },
  {
   "cell_type": "code",
   "execution_count": 67,
   "outputs": [],
   "source": [
    "vocab['hangul_syll_chains'] = vocab['hangul_word'].apply(get_word_break_lists)"
   ],
   "metadata": {
    "collapsed": false,
    "pycharm": {
     "name": "#%%\n"
    }
   }
  },
  {
   "cell_type": "code",
   "execution_count": 68,
   "outputs": [],
   "source": [
    "vocab2 = vocab.explode('hangul_syll_chains').rename(columns = {\n",
    "    'hangul_syll_chains': 'hangul_syllable_chain'\n",
    "})"
   ],
   "metadata": {
    "collapsed": false,
    "pycharm": {
     "name": "#%%\n"
    }
   }
  },
  {
   "cell_type": "code",
   "execution_count": 69,
   "outputs": [
    {
     "data": {
      "text/plain": "     Unnamed: 0 hangul_word               english_phrase hanja_word  \\\n0             0          휴대               being portable         携帶   \n0             0          휴대               being portable         携帶   \n1             1           형  elder brother from male pov        NaN   \n2             2        피곤하다                        tired        NaN   \n2             2        피곤하다                        tired        NaN   \n..          ...         ...                          ...        ...   \n556         556        가르치다                     to teach        NaN   \n556         556        가르치다                     to teach        NaN   \n557         557          가다                        to go        NaN   \n558         558          가게                 store / shop        NaN   \n558         558          가게                 store / shop        NaN   \n\n    hangul_syllable_chain  \n0                  [휴, 대]  \n0                    [휴대]  \n1                       형  \n2                  [피, 곤]  \n2                    [피곤]  \n..                    ...  \n556               [가르, 치]  \n556                 [가르치]  \n557                     가  \n558                [가, 게]  \n558                  [가게]  \n\n[1301 rows x 5 columns]",
      "text/html": "<div>\n<style scoped>\n    .dataframe tbody tr th:only-of-type {\n        vertical-align: middle;\n    }\n\n    .dataframe tbody tr th {\n        vertical-align: top;\n    }\n\n    .dataframe thead th {\n        text-align: right;\n    }\n</style>\n<table border=\"1\" class=\"dataframe\">\n  <thead>\n    <tr style=\"text-align: right;\">\n      <th></th>\n      <th>Unnamed: 0</th>\n      <th>hangul_word</th>\n      <th>english_phrase</th>\n      <th>hanja_word</th>\n      <th>hangul_syllable_chain</th>\n    </tr>\n  </thead>\n  <tbody>\n    <tr>\n      <th>0</th>\n      <td>0</td>\n      <td>휴대</td>\n      <td>being portable</td>\n      <td>携帶</td>\n      <td>[휴, 대]</td>\n    </tr>\n    <tr>\n      <th>0</th>\n      <td>0</td>\n      <td>휴대</td>\n      <td>being portable</td>\n      <td>携帶</td>\n      <td>[휴대]</td>\n    </tr>\n    <tr>\n      <th>1</th>\n      <td>1</td>\n      <td>형</td>\n      <td>elder brother from male pov</td>\n      <td>NaN</td>\n      <td>형</td>\n    </tr>\n    <tr>\n      <th>2</th>\n      <td>2</td>\n      <td>피곤하다</td>\n      <td>tired</td>\n      <td>NaN</td>\n      <td>[피, 곤]</td>\n    </tr>\n    <tr>\n      <th>2</th>\n      <td>2</td>\n      <td>피곤하다</td>\n      <td>tired</td>\n      <td>NaN</td>\n      <td>[피곤]</td>\n    </tr>\n    <tr>\n      <th>...</th>\n      <td>...</td>\n      <td>...</td>\n      <td>...</td>\n      <td>...</td>\n      <td>...</td>\n    </tr>\n    <tr>\n      <th>556</th>\n      <td>556</td>\n      <td>가르치다</td>\n      <td>to teach</td>\n      <td>NaN</td>\n      <td>[가르, 치]</td>\n    </tr>\n    <tr>\n      <th>556</th>\n      <td>556</td>\n      <td>가르치다</td>\n      <td>to teach</td>\n      <td>NaN</td>\n      <td>[가르치]</td>\n    </tr>\n    <tr>\n      <th>557</th>\n      <td>557</td>\n      <td>가다</td>\n      <td>to go</td>\n      <td>NaN</td>\n      <td>가</td>\n    </tr>\n    <tr>\n      <th>558</th>\n      <td>558</td>\n      <td>가게</td>\n      <td>store / shop</td>\n      <td>NaN</td>\n      <td>[가, 게]</td>\n    </tr>\n    <tr>\n      <th>558</th>\n      <td>558</td>\n      <td>가게</td>\n      <td>store / shop</td>\n      <td>NaN</td>\n      <td>[가게]</td>\n    </tr>\n  </tbody>\n</table>\n<p>1301 rows × 5 columns</p>\n</div>"
     },
     "execution_count": 69,
     "metadata": {},
     "output_type": "execute_result"
    }
   ],
   "source": [
    "vocab2"
   ],
   "metadata": {
    "collapsed": false,
    "pycharm": {
     "name": "#%%\n"
    }
   }
  },
  {
   "cell_type": "code",
   "execution_count": 70,
   "outputs": [],
   "source": [
    "def _get_chain(word_chain):\n",
    "    return ' + '.join([\n",
    "        f'{hangul_syll} ({english_trans_for_syll[hangul_syll]})'\n",
    "        for hangul_syll in word_chain\n",
    "    ])\n",
    "\n",
    "vocab2['chain_with_trans'] = vocab2['hangul_syllable_chain'].apply(_get_chain)"
   ],
   "metadata": {
    "collapsed": false,
    "pycharm": {
     "name": "#%%\n"
    }
   }
  },
  {
   "cell_type": "code",
   "execution_count": 71,
   "outputs": [
    {
     "data": {
      "text/plain": "     Unnamed: 0 hangul_word               english_phrase hanja_word  \\\n0             0          휴대               being portable         携帶   \n0             0          휴대               being portable         携帶   \n1             1           형  elder brother from male pov        NaN   \n2             2        피곤하다                        tired        NaN   \n2             2        피곤하다                        tired        NaN   \n..          ...         ...                          ...        ...   \n556         556        가르치다                     to teach        NaN   \n556         556        가르치다                     to teach        NaN   \n557         557          가다                        to go        NaN   \n558         558          가게                 store / shop        NaN   \n558         558          가게                 store / shop        NaN   \n\n    hangul_syllable_chain       chain_with_trans  \n0                  [휴, 대]  휴 (Phew) + 대 (Versus)  \n0                    [휴대]          휴대 (Carrying)  \n1                       형            형 (Brother)  \n2                  [피, 곤]    피 (Blood) + 곤 (gon)  \n2                    [피곤]           피곤 (fatigue)  \n..                    ...                    ...  \n556               [가르, 치]  가르 (Gar) + 치 (phooey)  \n556                 [가르치]         가르치 (teaching)  \n557                     가                 가 (go)  \n558                [가, 게]      가 (go) + 게 (Crab)  \n558                  [가게]         가게 (The store)  \n\n[1301 rows x 6 columns]",
      "text/html": "<div>\n<style scoped>\n    .dataframe tbody tr th:only-of-type {\n        vertical-align: middle;\n    }\n\n    .dataframe tbody tr th {\n        vertical-align: top;\n    }\n\n    .dataframe thead th {\n        text-align: right;\n    }\n</style>\n<table border=\"1\" class=\"dataframe\">\n  <thead>\n    <tr style=\"text-align: right;\">\n      <th></th>\n      <th>Unnamed: 0</th>\n      <th>hangul_word</th>\n      <th>english_phrase</th>\n      <th>hanja_word</th>\n      <th>hangul_syllable_chain</th>\n      <th>chain_with_trans</th>\n    </tr>\n  </thead>\n  <tbody>\n    <tr>\n      <th>0</th>\n      <td>0</td>\n      <td>휴대</td>\n      <td>being portable</td>\n      <td>携帶</td>\n      <td>[휴, 대]</td>\n      <td>휴 (Phew) + 대 (Versus)</td>\n    </tr>\n    <tr>\n      <th>0</th>\n      <td>0</td>\n      <td>휴대</td>\n      <td>being portable</td>\n      <td>携帶</td>\n      <td>[휴대]</td>\n      <td>휴대 (Carrying)</td>\n    </tr>\n    <tr>\n      <th>1</th>\n      <td>1</td>\n      <td>형</td>\n      <td>elder brother from male pov</td>\n      <td>NaN</td>\n      <td>형</td>\n      <td>형 (Brother)</td>\n    </tr>\n    <tr>\n      <th>2</th>\n      <td>2</td>\n      <td>피곤하다</td>\n      <td>tired</td>\n      <td>NaN</td>\n      <td>[피, 곤]</td>\n      <td>피 (Blood) + 곤 (gon)</td>\n    </tr>\n    <tr>\n      <th>2</th>\n      <td>2</td>\n      <td>피곤하다</td>\n      <td>tired</td>\n      <td>NaN</td>\n      <td>[피곤]</td>\n      <td>피곤 (fatigue)</td>\n    </tr>\n    <tr>\n      <th>...</th>\n      <td>...</td>\n      <td>...</td>\n      <td>...</td>\n      <td>...</td>\n      <td>...</td>\n      <td>...</td>\n    </tr>\n    <tr>\n      <th>556</th>\n      <td>556</td>\n      <td>가르치다</td>\n      <td>to teach</td>\n      <td>NaN</td>\n      <td>[가르, 치]</td>\n      <td>가르 (Gar) + 치 (phooey)</td>\n    </tr>\n    <tr>\n      <th>556</th>\n      <td>556</td>\n      <td>가르치다</td>\n      <td>to teach</td>\n      <td>NaN</td>\n      <td>[가르치]</td>\n      <td>가르치 (teaching)</td>\n    </tr>\n    <tr>\n      <th>557</th>\n      <td>557</td>\n      <td>가다</td>\n      <td>to go</td>\n      <td>NaN</td>\n      <td>가</td>\n      <td>가 (go)</td>\n    </tr>\n    <tr>\n      <th>558</th>\n      <td>558</td>\n      <td>가게</td>\n      <td>store / shop</td>\n      <td>NaN</td>\n      <td>[가, 게]</td>\n      <td>가 (go) + 게 (Crab)</td>\n    </tr>\n    <tr>\n      <th>558</th>\n      <td>558</td>\n      <td>가게</td>\n      <td>store / shop</td>\n      <td>NaN</td>\n      <td>[가게]</td>\n      <td>가게 (The store)</td>\n    </tr>\n  </tbody>\n</table>\n<p>1301 rows × 6 columns</p>\n</div>"
     },
     "execution_count": 71,
     "metadata": {},
     "output_type": "execute_result"
    }
   ],
   "source": [
    "vocab2"
   ],
   "metadata": {
    "collapsed": false,
    "pycharm": {
     "name": "#%%\n"
    }
   }
  },
  {
   "cell_type": "code",
   "execution_count": 72,
   "outputs": [],
   "source": [
    "vocab2.to_csv('../output/starter_vocab_with_extensive_chain.csv')"
   ],
   "metadata": {
    "collapsed": false,
    "pycharm": {
     "name": "#%%\n"
    }
   }
  },
  {
   "cell_type": "code",
   "execution_count": null,
   "outputs": [],
   "source": [],
   "metadata": {
    "collapsed": false,
    "pycharm": {
     "name": "#%%\n"
    }
   }
  }
 ],
 "metadata": {
  "kernelspec": {
   "display_name": "Python 3",
   "language": "python",
   "name": "python3"
  },
  "language_info": {
   "codemirror_mode": {
    "name": "ipython",
    "version": 2
   },
   "file_extension": ".py",
   "mimetype": "text/x-python",
   "name": "python",
   "nbconvert_exporter": "python",
   "pygments_lexer": "ipython2",
   "version": "2.7.6"
  }
 },
 "nbformat": 4,
 "nbformat_minor": 0
}