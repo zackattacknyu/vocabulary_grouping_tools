{
 "cells": [
  {
   "cell_type": "code",
   "execution_count": 1,
   "metadata": {
    "collapsed": true
   },
   "outputs": [],
   "source": [
    "from vocabulary_grouping_tools.ingestion.api_ingest import get_english_translation\n",
    "import pandas as pd\n",
    "import yaml"
   ]
  },
  {
   "cell_type": "code",
   "execution_count": 2,
   "outputs": [],
   "source": [
    "from vocabulary_grouping_tools.grouping.grouping_tools import make_all_subseqs"
   ],
   "metadata": {
    "collapsed": false,
    "pycharm": {
     "name": "#%%\n"
    }
   }
  },
  {
   "cell_type": "code",
   "execution_count": 3,
   "outputs": [],
   "source": [
    "secrets = yaml.safe_load(open('../metadata/secrets.yml', 'r'))"
   ],
   "metadata": {
    "collapsed": false,
    "pycharm": {
     "name": "#%%\n"
    }
   }
  },
  {
   "cell_type": "code",
   "execution_count": 6,
   "outputs": [],
   "source": [
    "vocab = pd.read_csv('../input_files_from_output/vocab_active_korean_1_2_ttmik_1_2_refined_with_hanja.csv')"
   ],
   "metadata": {
    "collapsed": false,
    "pycharm": {
     "name": "#%%\n"
    }
   }
  },
  {
   "cell_type": "code",
   "execution_count": 7,
   "outputs": [
    {
     "data": {
      "text/plain": "      Unnamed: 0 index hangul_word english_phrase  does_end_in_hada  \\\n0           3811     이           이           this             False   \n1           3812     이           이           this             False   \n2           3813     이           이           this             False   \n3           3814     이           이           this             False   \n4           3815     이           이           this             False   \n...          ...   ...         ...            ...               ...   \n6103           9  갈아타다        갈아타다    to transfer             False   \n6104           4  가르치다        가르치다       to teach             False   \n6105           3    가다          가다          to go             False   \n6106           2    가게          가게   store / shop             False   \n6107           1     들           들  plural marker             False   \n\n     hanja_word  hanja_exists hanja_word_with_hada  num_hangul_words  \n0             乁          True                    乁               384  \n1             二          True                    二               384  \n2             以          True                    以               384  \n3             伊          True                    伊               384  \n4             伿          True                    伿               384  \n...         ...           ...                  ...               ...  \n6103        NaN         False                  NaN                 0  \n6104        NaN         False                  NaN                 0  \n6105        NaN         False                  NaN                 0  \n6106        NaN         False                  NaN                 0  \n6107        NaN         False                  NaN                 0  \n\n[6108 rows x 9 columns]",
      "text/html": "<div>\n<style scoped>\n    .dataframe tbody tr th:only-of-type {\n        vertical-align: middle;\n    }\n\n    .dataframe tbody tr th {\n        vertical-align: top;\n    }\n\n    .dataframe thead th {\n        text-align: right;\n    }\n</style>\n<table border=\"1\" class=\"dataframe\">\n  <thead>\n    <tr style=\"text-align: right;\">\n      <th></th>\n      <th>Unnamed: 0</th>\n      <th>index</th>\n      <th>hangul_word</th>\n      <th>english_phrase</th>\n      <th>does_end_in_hada</th>\n      <th>hanja_word</th>\n      <th>hanja_exists</th>\n      <th>hanja_word_with_hada</th>\n      <th>num_hangul_words</th>\n    </tr>\n  </thead>\n  <tbody>\n    <tr>\n      <th>0</th>\n      <td>3811</td>\n      <td>이</td>\n      <td>이</td>\n      <td>this</td>\n      <td>False</td>\n      <td>乁</td>\n      <td>True</td>\n      <td>乁</td>\n      <td>384</td>\n    </tr>\n    <tr>\n      <th>1</th>\n      <td>3812</td>\n      <td>이</td>\n      <td>이</td>\n      <td>this</td>\n      <td>False</td>\n      <td>二</td>\n      <td>True</td>\n      <td>二</td>\n      <td>384</td>\n    </tr>\n    <tr>\n      <th>2</th>\n      <td>3813</td>\n      <td>이</td>\n      <td>이</td>\n      <td>this</td>\n      <td>False</td>\n      <td>以</td>\n      <td>True</td>\n      <td>以</td>\n      <td>384</td>\n    </tr>\n    <tr>\n      <th>3</th>\n      <td>3814</td>\n      <td>이</td>\n      <td>이</td>\n      <td>this</td>\n      <td>False</td>\n      <td>伊</td>\n      <td>True</td>\n      <td>伊</td>\n      <td>384</td>\n    </tr>\n    <tr>\n      <th>4</th>\n      <td>3815</td>\n      <td>이</td>\n      <td>이</td>\n      <td>this</td>\n      <td>False</td>\n      <td>伿</td>\n      <td>True</td>\n      <td>伿</td>\n      <td>384</td>\n    </tr>\n    <tr>\n      <th>...</th>\n      <td>...</td>\n      <td>...</td>\n      <td>...</td>\n      <td>...</td>\n      <td>...</td>\n      <td>...</td>\n      <td>...</td>\n      <td>...</td>\n      <td>...</td>\n    </tr>\n    <tr>\n      <th>6103</th>\n      <td>9</td>\n      <td>갈아타다</td>\n      <td>갈아타다</td>\n      <td>to transfer</td>\n      <td>False</td>\n      <td>NaN</td>\n      <td>False</td>\n      <td>NaN</td>\n      <td>0</td>\n    </tr>\n    <tr>\n      <th>6104</th>\n      <td>4</td>\n      <td>가르치다</td>\n      <td>가르치다</td>\n      <td>to teach</td>\n      <td>False</td>\n      <td>NaN</td>\n      <td>False</td>\n      <td>NaN</td>\n      <td>0</td>\n    </tr>\n    <tr>\n      <th>6105</th>\n      <td>3</td>\n      <td>가다</td>\n      <td>가다</td>\n      <td>to go</td>\n      <td>False</td>\n      <td>NaN</td>\n      <td>False</td>\n      <td>NaN</td>\n      <td>0</td>\n    </tr>\n    <tr>\n      <th>6106</th>\n      <td>2</td>\n      <td>가게</td>\n      <td>가게</td>\n      <td>store / shop</td>\n      <td>False</td>\n      <td>NaN</td>\n      <td>False</td>\n      <td>NaN</td>\n      <td>0</td>\n    </tr>\n    <tr>\n      <th>6107</th>\n      <td>1</td>\n      <td>들</td>\n      <td>들</td>\n      <td>plural marker</td>\n      <td>False</td>\n      <td>NaN</td>\n      <td>False</td>\n      <td>NaN</td>\n      <td>0</td>\n    </tr>\n  </tbody>\n</table>\n<p>6108 rows × 9 columns</p>\n</div>"
     },
     "execution_count": 7,
     "metadata": {},
     "output_type": "execute_result"
    }
   ],
   "source": [
    "vocab"
   ],
   "metadata": {
    "collapsed": false,
    "pycharm": {
     "name": "#%%\n"
    }
   }
  },
  {
   "cell_type": "code",
   "execution_count": 8,
   "outputs": [],
   "source": [
    "hangul_words = vocab['hangul_word']"
   ],
   "metadata": {
    "collapsed": false,
    "pycharm": {
     "name": "#%%\n"
    }
   }
  },
  {
   "cell_type": "code",
   "execution_count": 9,
   "outputs": [
    {
     "data": {
      "text/plain": "5"
     },
     "execution_count": 9,
     "metadata": {},
     "output_type": "execute_result"
    }
   ],
   "source": [
    "max([len(_word) for _word in hangul_words])"
   ],
   "metadata": {
    "collapsed": false,
    "pycharm": {
     "name": "#%%\n"
    }
   }
  },
  {
   "cell_type": "code",
   "execution_count": 10,
   "outputs": [],
   "source": [
    "def cutoff_ending(hangul_word):\n",
    "    if hangul_word.endswith('하다'):\n",
    "        return hangul_word[:-2]\n",
    "    elif hangul_word.endswith('다'):\n",
    "        return hangul_word[:-1]\n",
    "    else:\n",
    "        return hangul_word"
   ],
   "metadata": {
    "collapsed": false,
    "pycharm": {
     "name": "#%%\n"
    }
   }
  },
  {
   "cell_type": "code",
   "execution_count": 11,
   "outputs": [],
   "source": [
    "subseq_set = set()\n",
    "for hangul_wrd in list(hangul_words):\n",
    "    subseq_set.update(make_all_subseqs(cutoff_ending(hangul_wrd)))"
   ],
   "metadata": {
    "collapsed": false,
    "pycharm": {
     "name": "#%%\n"
    }
   }
  },
  {
   "cell_type": "code",
   "execution_count": 16,
   "outputs": [
    {
     "data": {
      "text/plain": "['대', '대한', '대한민', '대한민국', '한', '한민', '한민국', '민', '민국', '국']"
     },
     "execution_count": 16,
     "metadata": {},
     "output_type": "execute_result"
    }
   ],
   "source": [
    "make_all_subseqs('대한민국')"
   ],
   "metadata": {
    "collapsed": false,
    "pycharm": {
     "name": "#%%\n"
    }
   }
  },
  {
   "cell_type": "code",
   "execution_count": 17,
   "outputs": [],
   "source": [
    "trans = get_english_translation('인도', secrets['client_id'], secrets['client_secret'])"
   ],
   "metadata": {
    "collapsed": false,
    "pycharm": {
     "name": "#%%\n"
    }
   }
  },
  {
   "cell_type": "code",
   "execution_count": 18,
   "outputs": [
    {
     "data": {
      "text/plain": "'India'"
     },
     "execution_count": 18,
     "metadata": {},
     "output_type": "execute_result"
    }
   ],
   "source": [
    "trans"
   ],
   "metadata": {
    "collapsed": false,
    "pycharm": {
     "name": "#%%\n"
    }
   }
  },
  {
   "cell_type": "code",
   "execution_count": null,
   "outputs": [],
   "source": [
    "translation_for_subseq = {}\n",
    "for subseq in subseq_set:\n",
    "    print('Now getting translation for ' + subseq)\n",
    "    english_trans = get_english_translation(subseq, secrets['client_id'], secrets['client_secret'])\n",
    "    print(f'Translation is {english_trans}')\n",
    "    print()\n",
    "    translation_for_subseq[subseq] = english_trans"
   ],
   "metadata": {
    "collapsed": false,
    "pycharm": {
     "name": "#%%\n"
    }
   }
  },
  {
   "cell_type": "code",
   "execution_count": 30,
   "outputs": [
    {
     "data": {
      "text/plain": "1039"
     },
     "execution_count": 30,
     "metadata": {},
     "output_type": "execute_result"
    }
   ],
   "source": [
    "len(translation_for_subseq)"
   ],
   "metadata": {
    "collapsed": false,
    "pycharm": {
     "name": "#%%\n"
    }
   }
  },
  {
   "cell_type": "code",
   "execution_count": 31,
   "outputs": [],
   "source": [
    "df_of_seq_translation = pd.DataFrame(translation_for_subseq.items()).rename(columns={\n",
    "    0: 'hangul_syllable',\n",
    "    1: 'english_translation'\n",
    "})"
   ],
   "metadata": {
    "collapsed": false,
    "pycharm": {
     "name": "#%%\n"
    }
   }
  },
  {
   "cell_type": "code",
   "execution_count": 32,
   "outputs": [],
   "source": [
    "\n",
    "df_of_seq_translation.to_csv('../metadata/hangul_subsequence_translation.csv')"
   ],
   "metadata": {
    "collapsed": false,
    "pycharm": {
     "name": "#%%\n"
    }
   }
  },
  {
   "cell_type": "code",
   "execution_count": null,
   "outputs": [],
   "source": [],
   "metadata": {
    "collapsed": false,
    "pycharm": {
     "name": "#%%\n"
    }
   }
  }
 ],
 "metadata": {
  "kernelspec": {
   "display_name": "Python 3",
   "language": "python",
   "name": "python3"
  },
  "language_info": {
   "codemirror_mode": {
    "name": "ipython",
    "version": 2
   },
   "file_extension": ".py",
   "mimetype": "text/x-python",
   "name": "python",
   "nbconvert_exporter": "python",
   "pygments_lexer": "ipython2",
   "version": "2.7.6"
  }
 },
 "nbformat": 4,
 "nbformat_minor": 0
}