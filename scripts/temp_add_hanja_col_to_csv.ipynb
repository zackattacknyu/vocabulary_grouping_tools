{
 "cells": [
  {
   "cell_type": "code",
   "execution_count": 65,
   "metadata": {
    "collapsed": true
   },
   "outputs": [
    {
     "name": "stdout",
     "output_type": "stream",
     "text": [
      "../input_files_from_output/vocab_active_korean_1_2_ttmik_1_2_refined.csv\n"
     ]
    }
   ],
   "source": [
    "import pandas as pd\n",
    "import os\n",
    "\n",
    "from vocabulary_grouping_tools.util.constants import HANGUL_COL_NM, HANJA_COL_NM, ENGLISH_COL_NM\n",
    "\n",
    "STOP_WORDS = {\n",
    "    'a',\n",
    "    'at',\n",
    "    'or',\n",
    "    'to',\n",
    "    'of',\n",
    "    'in',\n",
    "    'be',\n",
    "    'that',\n",
    "    'this',\n",
    "    'for',\n",
    "    'when',\n",
    "    'the',\n",
    "    'and',\n",
    "    'do',\n",
    "    'from'\n",
    "}\n",
    "\n",
    "\n",
    "FILE_NAME = 'vocab_active_korean_1_2_ttmik_1_2_refined'\n",
    "EXTENSION = 'csv'\n",
    "FILE_PATH = 'input_files_from_output'\n",
    "OUTPUT_PATH = f'output/{FILE_NAME}'\n",
    "\n",
    "refined_file_nm = f'../{FILE_PATH}/{FILE_NAME}.{EXTENSION}'\n",
    "print(refined_file_nm)\n",
    "eng_korean_df = pd.read_csv(refined_file_nm).rename(columns={\n",
    "    'english_phrase': 'hangeul_english_translation'\n",
    "})\n",
    "\n",
    "hangul_hanja_df = pd.read_csv('../metadata/hanja_hangul_pairs.csv')\n",
    "\n",
    "eng_korean_df['does_end_in_hada'] = eng_korean_df[HANGUL_COL_NM].apply(lambda x: x.endswith('하다'))\n",
    "\n",
    "hanja_translation = pd.read_csv('../metadata/hanja_subsequence_translation.csv').rename(\n",
    "    columns={\n",
    "        'english_translation': 'hanja_english_translation'\n",
    "    }\n",
    ")\n",
    "\n",
    "hanja_translation = hanja_translation[hanja_translation['hanja_english_translation'].apply(\n",
    "    lambda x: sum([_char.isalnum() for _char in x]) > 1)]\n",
    "\n",
    "def remove_hada_if_there(row):\n",
    "    if row['does_end_in_hada']:\n",
    "        return row[HANGUL_COL_NM][:-2]\n",
    "    else:\n",
    "        return row[HANGUL_COL_NM]\n",
    "\n",
    "\n",
    "eng_korean_df['hangul_word_wo_hada'] = eng_korean_df.apply(remove_hada_if_there, axis=1)"
   ]
  },
  {
   "cell_type": "code",
   "execution_count": 66,
   "outputs": [
    {
     "data": {
      "text/plain": "  hangul_word hangeul_english_translation  does_end_in_hada  \\\n0          가게                store / shop             False   \n1          가다                       to go             False   \n2        가르치다                    to teach             False   \n3          가방                         bag             False   \n4          가족                      family             False   \n\n  hangul_word_wo_hada  \n0                  가게  \n1                  가다  \n2                가르치다  \n3                  가방  \n4                  가족  ",
      "text/html": "<div>\n<style scoped>\n    .dataframe tbody tr th:only-of-type {\n        vertical-align: middle;\n    }\n\n    .dataframe tbody tr th {\n        vertical-align: top;\n    }\n\n    .dataframe thead th {\n        text-align: right;\n    }\n</style>\n<table border=\"1\" class=\"dataframe\">\n  <thead>\n    <tr style=\"text-align: right;\">\n      <th></th>\n      <th>hangul_word</th>\n      <th>hangeul_english_translation</th>\n      <th>does_end_in_hada</th>\n      <th>hangul_word_wo_hada</th>\n    </tr>\n  </thead>\n  <tbody>\n    <tr>\n      <th>0</th>\n      <td>가게</td>\n      <td>store / shop</td>\n      <td>False</td>\n      <td>가게</td>\n    </tr>\n    <tr>\n      <th>1</th>\n      <td>가다</td>\n      <td>to go</td>\n      <td>False</td>\n      <td>가다</td>\n    </tr>\n    <tr>\n      <th>2</th>\n      <td>가르치다</td>\n      <td>to teach</td>\n      <td>False</td>\n      <td>가르치다</td>\n    </tr>\n    <tr>\n      <th>3</th>\n      <td>가방</td>\n      <td>bag</td>\n      <td>False</td>\n      <td>가방</td>\n    </tr>\n    <tr>\n      <th>4</th>\n      <td>가족</td>\n      <td>family</td>\n      <td>False</td>\n      <td>가족</td>\n    </tr>\n  </tbody>\n</table>\n</div>"
     },
     "execution_count": 66,
     "metadata": {},
     "output_type": "execute_result"
    }
   ],
   "source": [
    "eng_korean_df.head()"
   ],
   "metadata": {
    "collapsed": false,
    "pycharm": {
     "name": "#%%\n"
    }
   }
  },
  {
   "cell_type": "code",
   "execution_count": 67,
   "outputs": [],
   "source": [
    "eng_korean_df_with_hanja = eng_korean_df.join(\n",
    "    hangul_hanja_df.set_index(HANGUL_COL_NM), on='hangul_word_wo_hada', how='left')\n",
    "\n",
    "eng_korean_df_with_hanja['hanja_exists'] = eng_korean_df_with_hanja[HANJA_COL_NM].notna()"
   ],
   "metadata": {
    "collapsed": false,
    "pycharm": {
     "name": "#%%\n"
    }
   }
  },
  {
   "cell_type": "code",
   "execution_count": 68,
   "outputs": [],
   "source": [
    "eng_korean_df_with_hanja_trans = eng_korean_df_with_hanja.join(\n",
    "    hanja_translation.set_index('hanja_subsequence'),\n",
    "    on='hanja_word', how='left')"
   ],
   "metadata": {
    "collapsed": false,
    "pycharm": {
     "name": "#%%\n"
    }
   }
  },
  {
   "cell_type": "code",
   "execution_count": 69,
   "outputs": [],
   "source": [
    "def do_english_defs_possibly_match(eng_def_1, eng_def_2):\n",
    "    eng_def_1_words = set(str(eng_def_1).split(' ')).difference(STOP_WORDS)\n",
    "    eng_def_2_words = set(str(eng_def_2).split(' ')).difference(STOP_WORDS)\n",
    "    return len(eng_def_2_words.intersection(eng_def_1_words)) > 0\n",
    "\n",
    "eng_korean_df_with_hanja_trans['eng_defs_possible_match'] = eng_korean_df_with_hanja_trans.apply(\n",
    "    lambda row: do_english_defs_possibly_match(\n",
    "        row['hanja_english_translation'],\n",
    "        row['hangeul_english_translation']),\n",
    "    axis=1)"
   ],
   "metadata": {
    "collapsed": false,
    "pycharm": {
     "name": "#%%\n"
    }
   }
  },
  {
   "cell_type": "code",
   "execution_count": 70,
   "outputs": [
    {
     "data": {
      "text/plain": "Index(['hangul_word', 'hangeul_english_translation', 'does_end_in_hada',\n       'hangul_word_wo_hada', 'hanja_word', 'hanja_exists', 'Unnamed: 0',\n       'hanja_english_translation', 'eng_defs_possible_match'],\n      dtype='object')"
     },
     "execution_count": 70,
     "metadata": {},
     "output_type": "execute_result"
    }
   ],
   "source": [
    "eng_korean_df_with_hanja_trans.columns"
   ],
   "metadata": {
    "collapsed": false,
    "pycharm": {
     "name": "#%%\n"
    }
   }
  },
  {
   "cell_type": "code",
   "execution_count": 71,
   "outputs": [],
   "source": [
    "eng_korean_df_with_trans_info = eng_korean_df_with_hanja_trans.groupby([\n",
    "    'hangul_word',\n",
    "    'hangeul_english_translation',\n",
    "    'does_end_in_hada',\n",
    "    'hangul_word_wo_hada'\n",
    "]).agg({'hanja_exists': list,\n",
    "        'hanja_english_translation': list,\n",
    "        'hanja_word': list,\n",
    "        'eng_defs_possible_match': list})"
   ],
   "metadata": {
    "collapsed": false,
    "pycharm": {
     "name": "#%%\n"
    }
   }
  },
  {
   "cell_type": "code",
   "execution_count": 72,
   "outputs": [],
   "source": [
    "def _get_matching_indices_is_good(row):\n",
    "    if not row['hanja_exists'][0]:\n",
    "        return [-1], False\n",
    "    elif sum(row['eng_defs_possible_match']) < 1:\n",
    "        if len(row['eng_defs_possible_match']) > 2:\n",
    "            return [-1], False\n",
    "        else:\n",
    "            return list(range(len(row['eng_defs_possible_match']))), False\n",
    "    out_indices = [index for index, _val in enumerate(row['eng_defs_possible_match']) if _val]\n",
    "    return out_indices, True\n",
    "\n",
    "eng_korean_df_with_trans_info['out_indices_is_good'] = eng_korean_df_with_trans_info.apply(\n",
    "    _get_matching_indices_is_good, axis=1)"
   ],
   "metadata": {
    "collapsed": false,
    "pycharm": {
     "name": "#%%\n"
    }
   }
  },
  {
   "cell_type": "code",
   "execution_count": 73,
   "outputs": [],
   "source": [
    "eng_korean_df_with_trans_info['is_good_translation'] = \\\n",
    "    eng_korean_df_with_trans_info['out_indices_is_good'].apply(lambda x: x[1])"
   ],
   "metadata": {
    "collapsed": false,
    "pycharm": {
     "name": "#%%\n"
    }
   }
  },
  {
   "cell_type": "code",
   "execution_count": 74,
   "outputs": [],
   "source": [
    "def _get_pairs(row):\n",
    "    out_inds = row['out_indices_is_good'][0]\n",
    "    if out_inds[0] == -1:\n",
    "        return []\n",
    "    out_pairs = []\n",
    "    for _ind in out_inds:\n",
    "        out_pairs.append((row['hanja_word'][_ind], row['hanja_english_translation'][_ind]))\n",
    "    return out_pairs\n",
    "\n",
    "eng_korean_df_with_trans_info['hanja_english_pairs'] = eng_korean_df_with_trans_info.apply(_get_pairs, axis=1)"
   ],
   "metadata": {
    "collapsed": false,
    "pycharm": {
     "name": "#%%\n"
    }
   }
  },
  {
   "cell_type": "code",
   "execution_count": 60,
   "outputs": [],
   "source": [],
   "metadata": {
    "collapsed": false,
    "pycharm": {
     "name": "#%%\n"
    }
   }
  },
  {
   "cell_type": "code",
   "execution_count": 77,
   "outputs": [],
   "source": [
    "\n",
    "eng_korean_df_with_hanja_info = eng_korean_df_with_trans_info.reset_index()[[\n",
    "    'hangul_word',\n",
    "    'hangeul_english_translation',\n",
    "    'does_end_in_hada',\n",
    "    'hangul_word_wo_hada',\n",
    "    'is_good_translation',\n",
    "    'hanja_english_pairs'\n",
    "]]"
   ],
   "metadata": {
    "collapsed": false,
    "pycharm": {
     "name": "#%%\n"
    }
   }
  },
  {
   "cell_type": "code",
   "execution_count": 78,
   "outputs": [],
   "source": [
    "eng_korean_df_with_hanja_info.to_csv('../output/temp_info2.csv')"
   ],
   "metadata": {
    "collapsed": false,
    "pycharm": {
     "name": "#%%\n"
    }
   }
  },
  {
   "cell_type": "code",
   "execution_count": null,
   "outputs": [],
   "source": [
    "'''\n",
    "TODO: UPDATE THE BOTTOM ONES HERE\n",
    "'''\n",
    "def add_hada_to_hanja_words(row):\n",
    "    if row['does_end_in_hada'] and row['hanja_exists']:\n",
    "        return row['hanja_word'] + '하다'\n",
    "    else:\n",
    "        return row['hanja_word']\n",
    "\n",
    "\n",
    "eng_korean_df_with_hanja['hanja_word_with_hada'] = eng_korean_df_with_hanja.apply(add_hada_to_hanja_words, axis=1)\n",
    "\n",
    "num_hangul_words = eng_korean_df_with_hanja.groupby(HANGUL_COL_NM).agg('count')[HANJA_COL_NM].rename('num_hangul_words')\n",
    "joined_df_2 = eng_korean_df_with_hanja.join(num_hangul_words, on=HANGUL_COL_NM)\n",
    "\n",
    "joined_df_2 = joined_df_2.reset_index().sort_values(['num_hangul_words', HANGUL_COL_NM], ascending=False)\n",
    "\n",
    "joined_df_3 = joined_df_2.join(hanja_translation.set_index('hanja_subsequence'), on='hanja_word', how='left')\n",
    "\n",
    "\n",
    "\n",
    "\n",
    "#\n",
    "# joined_df_3 = joined_df_3[\n",
    "#\n",
    "# os.makedirs(OUTPUT_PATH, exist_ok=True)\n",
    "# joined_df_3.to_csv(f'{OUTPUT_PATH}/{FILE_NAME}_with_hanja_v5.csv')\n"
   ],
   "metadata": {
    "collapsed": false,
    "pycharm": {
     "name": "#%%\n"
    }
   }
  }
 ],
 "metadata": {
  "kernelspec": {
   "display_name": "Python 3",
   "language": "python",
   "name": "python3"
  },
  "language_info": {
   "codemirror_mode": {
    "name": "ipython",
    "version": 2
   },
   "file_extension": ".py",
   "mimetype": "text/x-python",
   "name": "python",
   "nbconvert_exporter": "python",
   "pygments_lexer": "ipython2",
   "version": "2.7.6"
  }
 },
 "nbformat": 4,
 "nbformat_minor": 0
}